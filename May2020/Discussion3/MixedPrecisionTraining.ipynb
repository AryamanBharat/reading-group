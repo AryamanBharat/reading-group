{
  "nbformat": 4,
  "nbformat_minor": 0,
  "metadata": {
    "colab": {
      "name": "MixedPrecisionTraining.ipynb",
      "provenance": [],
      "authorship_tag": "ABX9TyP2UMQFja/hEPYoKfDU13fy",
      "include_colab_link": true
    },
    "kernelspec": {
      "name": "python3",
      "display_name": "Python 3"
    }
  },
  "cells": [
    {
      "cell_type": "markdown",
      "metadata": {
        "id": "view-in-github",
        "colab_type": "text"
      },
      "source": [
        "<a href=\"https://colab.research.google.com/github/dsgiitr/reading-group/blob/master/May2020/Discussion3/MixedPrecisionTraining.ipynb\" target=\"_parent\"><img src=\"https://colab.research.google.com/assets/colab-badge.svg\" alt=\"Open In Colab\"/></a>"
      ]
    },
    {
      "cell_type": "code",
      "metadata": {
        "id": "6MSIFS10ogcV",
        "colab_type": "code",
        "colab": {}
      },
      "source": [
        "import torch\n",
        "import torch.nn as nn\n",
        "import torch.optim as optim\n",
        "\n",
        "import spacy\n",
        "import numpy as np\n",
        "import random\n",
        "import math\n",
        "import time\n",
        "\n",
        "from torch.nn.utils.rnn import pad_sequence"
      ],
      "execution_count": 0,
      "outputs": []
    },
    {
      "cell_type": "code",
      "metadata": {
        "id": "rMg6kTmyY_sH",
        "colab_type": "code",
        "colab": {}
      },
      "source": [
        "#Dataset download from https://github.com/multi30k/dataset\n",
        "\n",
        "#https://github.com/multi30k/dataset/blob/master/data/task1/raw/train.de.gz\n",
        "#https://github.com/multi30k/dataset/blob/master/data/task1/raw/train.en.gz"
      ],
      "execution_count": 0,
      "outputs": []
    },
    {
      "cell_type": "code",
      "metadata": {
        "id": "_K6Vr0FVX2YQ",
        "colab_type": "code",
        "colab": {}
      },
      "source": [
        "file1=open('./WMT/train.en','r')\n",
        "file2=open('./WMT/train.de','r')"
      ],
      "execution_count": 0,
      "outputs": []
    },
    {
      "cell_type": "code",
      "metadata": {
        "id": "G7o_HxrxX2dY",
        "colab_type": "code",
        "colab": {}
      },
      "source": [
        "def read_linewise_dataset(path):\n",
        "    file=open(path)\n",
        "    return file.read().split('\\n')"
      ],
      "execution_count": 0,
      "outputs": []
    },
    {
      "cell_type": "code",
      "metadata": {
        "id": "Ku4CSyD_X2gT",
        "colab_type": "code",
        "colab": {}
      },
      "source": [
        "english_path='./WMT/train.en'\n",
        "german_path='./WMT/train.de'\n",
        "\n",
        "english_dataset=read_linewise_dataset(english_path)\n",
        "german_dataset=read_linewise_dataset(german_path)"
      ],
      "execution_count": 0,
      "outputs": []
    },
    {
      "cell_type": "code",
      "metadata": {
        "id": "cnr7ysLpX2ua",
        "colab_type": "code",
        "colab": {}
      },
      "source": [
        "#Analysing Dataset\n",
        "english_dataset[0],german_dataset[0]"
      ],
      "execution_count": 0,
      "outputs": []
    },
    {
      "cell_type": "code",
      "metadata": {
        "id": "J6oLWtqvX2r3",
        "colab_type": "code",
        "colab": {}
      },
      "source": [
        "#Number of Datapoints\n",
        "len(english_dataset),len(german_dataset)"
      ],
      "execution_count": 0,
      "outputs": []
    },
    {
      "cell_type": "code",
      "metadata": {
        "id": "tOK5aXz2X2pG",
        "colab_type": "code",
        "colab": {}
      },
      "source": [
        "#!pip install tokenizers"
      ],
      "execution_count": 0,
      "outputs": []
    },
    {
      "cell_type": "code",
      "metadata": {
        "id": "tAbSZcfMX2mR",
        "colab_type": "code",
        "colab": {}
      },
      "source": [
        "from tokenizers import BertWordPieceTokenizer"
      ],
      "execution_count": 0,
      "outputs": []
    },
    {
      "cell_type": "code",
      "metadata": {
        "id": "NGwzqH5-X2jy",
        "colab_type": "code",
        "colab": {}
      },
      "source": [
        "from transformers import BertTokenizer\n",
        "tokenizer_eng=BertTokenizer.from_pretrained(\"bert-base-uncased\")\n",
        "enc=tokenizer_eng.encode(\"Hello There\")\n",
        "\n",
        "dec=tokenizer_eng.decode(enc)\n"
      ],
      "execution_count": 0,
      "outputs": []
    },
    {
      "cell_type": "code",
      "metadata": {
        "id": "ufCC8dybX2bL",
        "colab_type": "code",
        "colab": {}
      },
      "source": [
        "from transformers import BertTokenizer\n",
        "tokenizer_ger=BertTokenizer.from_pretrained(\"bert-base-german-cased\",\n",
        "                                       special_tokens=[\"[PAD]\", \"[UNK]\", \"[SOS]\", \"[EOS]\", \"[MASK]\"])\n",
        "enc=tokenizer_ger.encode(\"Zwei junge weiße Männer sind im Freien in der Nähe vieler Büsche.\")\n",
        "\n",
        "dec=tokenizer_ger.decode(enc)"
      ],
      "execution_count": 0,
      "outputs": []
    },
    {
      "cell_type": "code",
      "metadata": {
        "id": "QwF9GGmkYWP0",
        "colab_type": "code",
        "colab": {}
      },
      "source": [
        "class Dataset:\n",
        "    def __init__(self,sent_eng,sent_ger,tokenizer_eng,tokenizer_ger):\n",
        "        self.sent_eng=sent_eng\n",
        "        self.sent_ger=sent_ger\n",
        "        self.tokenize_eng=tokenizer_eng\n",
        "        self.tokenize_ger=tokenizer_ger\n",
        "        \n",
        "        self.processed_data_eng=[]\n",
        "        self.processed_data_ger=[]\n",
        "        \n",
        "        for i in range(len(self.sent_eng)):\n",
        "            self.processed_data_eng.append(self.tokenize_eng.encode(self.sent_eng[i]))   \n",
        "            self.processed_data_ger.append(self.tokenize_ger.encode(self.sent_ger[i]))\n",
        "        \n",
        "        \n",
        "    def __len__(self):\n",
        "        return len(self.sent_eng)\n",
        "    \n",
        "    def __getitem__(self,item):\n",
        "        sample=[torch.tensor(self.processed_data_eng[item]),torch.tensor(self.processed_data_ger[item])]\n",
        "        return sample"
      ],
      "execution_count": 0,
      "outputs": []
    },
    {
      "cell_type": "code",
      "metadata": {
        "id": "_o7MjECzYWTG",
        "colab_type": "code",
        "colab": {}
      },
      "source": [
        "dataset=Dataset(english_dataset,\n",
        "                german_dataset,\n",
        "               tokenizer_eng,\n",
        "               tokenizer_ger)"
      ],
      "execution_count": 0,
      "outputs": []
    },
    {
      "cell_type": "code",
      "metadata": {
        "id": "l6JY2k6-YWXK",
        "colab_type": "code",
        "colab": {}
      },
      "source": [
        "def pad_collate(batch):\n",
        "    \n",
        "    (xx, yy) = zip(*batch)\n",
        "\n",
        "    x_lens = [len(x) for x in xx]\n",
        "    y_lens = [len(y) for y in yy]\n",
        "\n",
        "    xx_pad = pad_sequence(xx, batch_first=True, padding_value=0)\n",
        "    yy_pad = pad_sequence(yy, batch_first=True, padding_value=0)\n",
        "\n",
        "    return xx_pad, yy_pad, x_lens, y_lens"
      ],
      "execution_count": 0,
      "outputs": []
    },
    {
      "cell_type": "code",
      "metadata": {
        "id": "uR991hba2DMd",
        "colab_type": "code",
        "colab": {}
      },
      "source": [
        "from torch.utils.data import Dataset, DataLoader\n",
        "data_loader = DataLoader(dataset=dataset_, batch_size=128, shuffle=True, collate_fn=pad_collate)"
      ],
      "execution_count": 0,
      "outputs": []
    },
    {
      "cell_type": "code",
      "metadata": {
        "id": "rCvWIzQy2DPo",
        "colab_type": "code",
        "colab": {}
      },
      "source": [
        "class Encoder(nn.Module):\n",
        "    def __init__(self, input_dim, emb_dim, enc_hid_dim, dec_hid_dim, dropout):\n",
        "        super().__init__()\n",
        "        \n",
        "        self.embedding = nn.Embedding(input_dim, emb_dim)\n",
        "        \n",
        "        self.rnn = nn.GRU(emb_dim, enc_hid_dim, bidirectional = True,batch_first=True)\n",
        "        \n",
        "        self.fc = nn.Linear(enc_hid_dim * 2, dec_hid_dim)\n",
        "        \n",
        "        self.dropout = nn.Dropout(dropout)\n",
        "        \n",
        "    def forward(self, src, src_len):\n",
        "\n",
        "        embedded = self.dropout(self.embedding(src))\n",
        "               \n",
        "        packed_embedded = nn.utils.rnn.pack_padded_sequence(embedded, src_len,batch_first=True,enforce_sorted=False)\n",
        "                \n",
        "        packed_outputs, hidden = self.rnn(packed_embedded)\n",
        "\n",
        "        outputs, _ = nn.utils.rnn.pad_packed_sequence(packed_outputs,batch_first=True) \n",
        "        hidden = torch.tanh(self.fc(torch.cat((hidden[-2,:,:], hidden[-1,:,:]), dim = 1)))\n",
        "        return outputs, hidden"
      ],
      "execution_count": 0,
      "outputs": []
    },
    {
      "cell_type": "code",
      "metadata": {
        "id": "oySAXG282DTC",
        "colab_type": "code",
        "colab": {}
      },
      "source": [
        "class Attention(nn.Module):\n",
        "    def __init__(self, enc_hid_dim, dec_hid_dim):\n",
        "        super().__init__()\n",
        "        \n",
        "        self.attn = nn.Linear((enc_hid_dim * 2) + dec_hid_dim, dec_hid_dim)\n",
        "        self.v = nn.Linear(dec_hid_dim, 1, bias = False)\n",
        "        \n",
        "    def forward(self, hidden, encoder_outputs, mask):\n",
        "\n",
        "        batch_size = encoder_outputs.shape[0]\n",
        "        src_len = encoder_outputs.shape[1]\n",
        "\n",
        "        hidden = hidden.unsqueeze(1).repeat(1, src_len, 1)\n",
        "  \n",
        "        energy = torch.tanh(self.attn(torch.cat((hidden, encoder_outputs), dim = 2))) \n",
        "\n",
        "        attention = self.v(energy).squeeze(2)\n",
        "\n",
        "        attention = attention.masked_fill(mask == 0, -1e10)\n",
        "        \n",
        "        return F.softmax(attention, dim = 1)"
      ],
      "execution_count": 0,
      "outputs": []
    },
    {
      "cell_type": "code",
      "metadata": {
        "id": "AN6b9MgD2Z3w",
        "colab_type": "code",
        "colab": {}
      },
      "source": [
        "class Decoder(nn.Module):\n",
        "    def __init__(self, output_dim, emb_dim, enc_hid_dim, dec_hid_dim, dropout, attention):\n",
        "        super().__init__()\n",
        "\n",
        "        self.output_dim = output_dim\n",
        "        self.attention = attention\n",
        "        self.embedding = nn.Embedding(output_dim, emb_dim)\n",
        "        self.rnn = nn.GRU((enc_hid_dim * 2) + emb_dim, dec_hid_dim,batch_first=True)\n",
        "        self.fc_out = nn.Linear((enc_hid_dim * 2) + dec_hid_dim + emb_dim, output_dim)\n",
        "        self.dropout = nn.Dropout(dropout)\n",
        "        \n",
        "    def forward(self, input, hidden, encoder_outputs, mask):\n",
        "\n",
        "        input = input.unsqueeze(0)\n",
        "\n",
        "        embedded = self.dropout(self.embedding(input))\n",
        "\n",
        "        a = self.attention(hidden, encoder_outputs,mask)\n",
        "\n",
        "        a = a.unsqueeze(1)\n",
        "\n",
        "        weighted = torch.bmm(a, encoder_outputs)\n",
        "\n",
        "        weighted = weighted.permute(1, 0, 2)\n",
        "        \n",
        "        rnn_input = torch.cat((embedded, weighted), dim = 2)\n",
        "   \n",
        "        output, hidden = self.rnn(rnn_input, hidden.unsqueeze(0))\n",
        "        \n",
        "        assert (output == hidden).all()\n",
        "        \n",
        "        embedded = embedded.squeeze(0)\n",
        "        output = output.squeeze(0)\n",
        "        weighted = weighted.squeeze(0)\n",
        "        \n",
        "        prediction = self.fc_out(torch.cat((output, weighted, embedded), dim = 1))\n",
        "        \n",
        "        return prediction, hidden.squeeze(0), a.squeeze(1)"
      ],
      "execution_count": 0,
      "outputs": []
    },
    {
      "cell_type": "code",
      "metadata": {
        "id": "RFjXr97x2lwc",
        "colab_type": "code",
        "colab": {}
      },
      "source": [
        "class Seq2Seq(nn.Module):\n",
        "    def __init__(self, encoder, decoder, src_pad_idx, device):\n",
        "        super().__init__()\n",
        "        \n",
        "        self.encoder = encoder\n",
        "        self.decoder = decoder\n",
        "        self.src_pad_idx = src_pad_idx\n",
        "        self.device = device\n",
        "        \n",
        "    def create_mask(self, src):\n",
        "        mask = (src != self.src_pad_idx)\n",
        "        return mask\n",
        "    \n",
        "    def forward(self, src, src_len, trg, teacher_forcing_ratio = 0.5):\n",
        "             \n",
        "        batch_size = src.shape[0]\n",
        "        trg_len = trg.shape[1]\n",
        "        trg_vocab_size = self.decoder.output_dim\n",
        "\n",
        "        outputs = torch.zeros(batch_size,trg_len,trg_vocab_size).to(self.device)\n",
        "\n",
        "        encoder_outputs, hidden = self.encoder(src, src_len)\n",
        "                \n",
        "        input = trg[:,0]\n",
        "        \n",
        "        mask = self.create_mask(src)\n",
        "\n",
        "        #mask = [batch size, src len]\n",
        "                \n",
        "        for t in range(1, trg_len):\n",
        "\n",
        "            output, hidden, _ = self.decoder(input, hidden, encoder_outputs,mask)\n",
        "          \n",
        "            outputs[:,t,:] = output\n",
        "\n",
        "            teacher_force = random.random() < teacher_forcing_ratio\n",
        "          \n",
        "            top1 = torch.max(output,1)[1] \n",
        "            input = trg[:,t] if teacher_force else top1\n",
        "            \n",
        "        return outputs"
      ],
      "execution_count": 0,
      "outputs": []
    },
    {
      "cell_type": "code",
      "metadata": {
        "id": "2ZLWPrfj2xCF",
        "colab_type": "code",
        "colab": {}
      },
      "source": [
        "input_dim=len(tokenizer_eng.vocab)\n",
        "output_dim=len(tokenizer_ger.vocab)\n",
        "\n",
        "enc_emb_dim=256\n",
        "dec_emb_dim=256\n",
        "\n",
        "enc_hid_dim=200\n",
        "dec_hid_dim=200\n",
        "\n",
        "enc_dropout=0.3\n",
        "dec_dropout=0.3\n",
        "\n",
        "output_pad=0 \n",
        "attention = Attention(enc_hid_dim, dec_hid_dim)\n",
        "enc = Encoder(input_dim, enc_emb_dim, enc_hid_dim, dec_hid_dim, enc_dropout)\n",
        "dec = Decoder(output_dim, dec_emb_dim, enc_hid_dim, dec_hid_dim, dec_dropout, attention)\n",
        "\n",
        "\n",
        "model = Seq2Seq(enc, dec, output_pad, device).to(device)"
      ],
      "execution_count": 0,
      "outputs": []
    },
    {
      "cell_type": "code",
      "metadata": {
        "id": "FvYGW3MZ2zNO",
        "colab_type": "code",
        "colab": {}
      },
      "source": [
        "def init_weights(m):\n",
        "    for name, param in m.named_parameters():\n",
        "        if 'weight' in name:\n",
        "            nn.init.normal_(param.data, mean=0, std=0.01)\n",
        "        else:\n",
        "            nn.init.constant_(param.data, 0)\n",
        "            \n",
        "model.apply(init_weights)"
      ],
      "execution_count": 0,
      "outputs": []
    },
    {
      "cell_type": "code",
      "metadata": {
        "id": "y1fpLp6W22AS",
        "colab_type": "code",
        "colab": {}
      },
      "source": [
        "def count_parameters(model):\n",
        "    return sum(p.numel() for p in model.parameters() if p.requires_grad)\n",
        "\n",
        "print(f'The model has {count_parameters(model):,} trainable parameters')"
      ],
      "execution_count": 0,
      "outputs": []
    },
    {
      "cell_type": "code",
      "metadata": {
        "id": "uG8y472R27oN",
        "colab_type": "code",
        "colab": {}
      },
      "source": [
        "optimizer = optim.Adam(model.parameters())\n",
        "criterion = nn.CrossEntropyLoss(ignore_index = output_pad)"
      ],
      "execution_count": 0,
      "outputs": []
    },
    {
      "cell_type": "code",
      "metadata": {
        "id": "zm8jwhSp27un",
        "colab_type": "code",
        "colab": {}
      },
      "source": [
        "def train(model, iterator, optimizer, criterion, clip):\n",
        "    \n",
        "    model.train()\n",
        "    \n",
        "    epoch_loss = 0\n",
        "    \n",
        "    for i, batch in enumerate(iterator):\n",
        "        \n",
        "        src = batch[0]\n",
        "        src_len=batch[2]\n",
        "        trg = batch[1]\n",
        "        trg_len=batch[3]\n",
        "        \n",
        "        optimizer.zero_grad()\n",
        "        \n",
        "        output = model(src, src_len, trg)\n",
        "\n",
        "        output_dim = output.shape[-1]\n",
        "        \n",
        "        output = output[1:].view(-1, output_dim)\n",
        "        trg = trg[1:].view(-1)\n",
        "\n",
        "        loss = criterion(output, trg)\n",
        "        \n",
        "        loss.backward()\n",
        "        \n",
        "        torch.nn.utils.clip_grad_norm_(model.parameters(), clip)\n",
        "        \n",
        "        optimizer.step()\n",
        "        \n",
        "        epoch_loss += loss.item()\n",
        "        \n",
        "    return epoch_loss / len(iterator)"
      ],
      "execution_count": 0,
      "outputs": []
    },
    {
      "cell_type": "code",
      "metadata": {
        "id": "J3zY9zOL3CMc",
        "colab_type": "code",
        "colab": {}
      },
      "source": [
        "train_loss=train(model, data_loader, optimizer, criterion, 1)\n",
        "print(train_loss)"
      ],
      "execution_count": 0,
      "outputs": []
    }
  ]
}