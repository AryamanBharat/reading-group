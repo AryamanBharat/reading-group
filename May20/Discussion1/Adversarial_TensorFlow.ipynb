{
 "cells": [
  {
   "cell_type": "markdown",
   "metadata": {},
   "source": [
    "## Creating Adversarial Examples and Generalization in Tensorflow"
   ]
  },
  {
   "cell_type": "markdown",
   "metadata": {},
   "source": [
    "## Adversarial Example"
   ]
  },
  {
   "cell_type": "code",
   "execution_count": 1,
   "metadata": {},
   "outputs": [],
   "source": [
    "%matplotlib inline\n",
    "import tensorflow as tf\n",
    "from tensorflow.keras.datasets import mnist\n",
    "from tensorflow.keras import Sequential\n",
    "from tensorflow.keras.callbacks import LambdaCallback\n",
    "from tensorflow.keras.layers import Conv2D, MaxPooling2D, Dropout, Dense, Flatten, Activation\n",
    "import numpy as np\n",
    "import random\n",
    "import matplotlib.pyplot as plt\n",
    "\n",
    "use_cuda=True\n",
    "\n",
    "#Loading Data\n",
    "(x_train, y_train), (x_test, y_test) = mnist.load_data()"
   ]
  },
  {
   "cell_type": "code",
   "execution_count": 2,
   "metadata": {},
   "outputs": [],
   "source": [
    "labels = ['Zero', 'One', 'Two', 'Three', 'Four', 'Five', 'Six', 'Seven', 'Eight', 'Nine']\n",
    "#Reshaping and One hot ecoding data\n",
    "img_rows, img_cols, channels = 28, 28, 1\n",
    "num_classes = 10\n",
    "\n",
    "x_train = x_train / 255\n",
    "x_test = x_test / 255\n",
    "\n",
    "x_train = x_train.reshape((-1, img_rows, img_cols, channels))\n",
    "x_test = x_test.reshape((-1, img_rows, img_cols, channels))\n",
    "\n",
    "y_train = tf.keras.utils.to_categorical(y_train, num_classes)\n",
    "y_test = tf.keras.utils.to_categorical(y_test, num_classes)\n",
    "\n",
    "#print(\"Data shapes\", x_test.shape, y_test.shape, x_train.shape, y_train.shape)"
   ]
  },
  {
   "cell_type": "code",
   "execution_count": 3,
   "metadata": {},
   "outputs": [],
   "source": [
    "#Model\n",
    "def create_model():\n",
    "    model = Sequential()\n",
    "    model.add(Conv2D(32, kernel_size=(3, 3), strides=(3, 3), padding='same', activation='relu', input_shape=(img_rows, img_cols, channels)))\n",
    "    model.add(Conv2D(64, kernel_size=(3, 3), strides=(3, 3), padding='same', activation='relu'))\n",
    "    model.add(Conv2D(64, kernel_size=(3, 3), strides=(3, 3), padding='same', activation='relu'))\n",
    "    model.add(MaxPooling2D(pool_size=(2, 2)))\n",
    "    model.add(Dropout(0.2))\n",
    "    model.add(Flatten())\n",
    "    model.add(Dense(32))\n",
    "    model.add(Dropout(0.2))\n",
    "    model.add(Dense(32))\n",
    "    model.add(Dropout(0.2))\n",
    "    model.add(Dense(num_classes, activation='softmax'))\n",
    "\n",
    "    model.compile(optimizer='adam', loss='mse', metrics=['accuracy'])\n",
    "    \n",
    "    return model\n",
    "\n",
    "model = create_model()"
   ]
  },
  {
   "cell_type": "code",
   "execution_count": 4,
   "metadata": {
    "scrolled": true
   },
   "outputs": [
    {
     "name": "stdout",
     "output_type": "stream",
     "text": [
      "Train on 60000 samples, validate on 10000 samples\n",
      "Epoch 1/20\n",
      "60000/60000 [==============================] - 8s 128us/sample - loss: 0.0191 - accuracy: 0.8675 - val_loss: 0.0060 - val_accuracy: 0.9603\n",
      "Epoch 2/20\n",
      "60000/60000 [==============================] - 7s 114us/sample - loss: 0.0089 - accuracy: 0.9424 - val_loss: 0.0049 - val_accuracy: 0.9689\n",
      "Epoch 3/20\n",
      "60000/60000 [==============================] - 7s 115us/sample - loss: 0.0073 - accuracy: 0.9532 - val_loss: 0.0041 - val_accuracy: 0.9734\n",
      "Epoch 4/20\n",
      "60000/60000 [==============================] - 7s 118us/sample - loss: 0.0062 - accuracy: 0.9603 - val_loss: 0.0042 - val_accuracy: 0.9730\n",
      "Epoch 5/20\n",
      "60000/60000 [==============================] - 9s 148us/sample - loss: 0.0057 - accuracy: 0.9635 - val_loss: 0.0036 - val_accuracy: 0.9762\n",
      "Epoch 6/20\n",
      "60000/60000 [==============================] - 7s 121us/sample - loss: 0.0052 - accuracy: 0.9668 - val_loss: 0.0034 - val_accuracy: 0.9785\n",
      "Epoch 7/20\n",
      "60000/60000 [==============================] - 7s 121us/sample - loss: 0.0048 - accuracy: 0.9694 - val_loss: 0.0033 - val_accuracy: 0.9791\n",
      "Epoch 8/20\n",
      "60000/60000 [==============================] - 7s 121us/sample - loss: 0.0045 - accuracy: 0.9710 - val_loss: 0.0032 - val_accuracy: 0.9796\n",
      "Epoch 9/20\n",
      "60000/60000 [==============================] - 7s 117us/sample - loss: 0.0041 - accuracy: 0.9736 - val_loss: 0.0033 - val_accuracy: 0.9788\n",
      "Epoch 10/20\n",
      "60000/60000 [==============================] - 7s 121us/sample - loss: 0.0040 - accuracy: 0.9750 - val_loss: 0.0035 - val_accuracy: 0.9776\n",
      "Epoch 11/20\n",
      "60000/60000 [==============================] - 7s 117us/sample - loss: 0.0037 - accuracy: 0.9765 - val_loss: 0.0035 - val_accuracy: 0.9787\n",
      "Epoch 12/20\n",
      "60000/60000 [==============================] - 7s 122us/sample - loss: 0.0035 - accuracy: 0.9778 - val_loss: 0.0029 - val_accuracy: 0.9818\n",
      "Epoch 13/20\n",
      "60000/60000 [==============================] - 7s 109us/sample - loss: 0.0035 - accuracy: 0.9780 - val_loss: 0.0031 - val_accuracy: 0.9803\n",
      "Epoch 14/20\n",
      "60000/60000 [==============================] - 7s 115us/sample - loss: 0.0035 - accuracy: 0.9784 - val_loss: 0.0033 - val_accuracy: 0.9808\n",
      "Epoch 15/20\n",
      "60000/60000 [==============================] - 7s 113us/sample - loss: 0.0034 - accuracy: 0.9792 - val_loss: 0.0031 - val_accuracy: 0.9811\n",
      "Epoch 16/20\n",
      "60000/60000 [==============================] - 7s 111us/sample - loss: 0.0032 - accuracy: 0.9801 - val_loss: 0.0027 - val_accuracy: 0.9821\n",
      "Epoch 17/20\n",
      "60000/60000 [==============================] - 7s 115us/sample - loss: 0.0032 - accuracy: 0.9803 - val_loss: 0.0030 - val_accuracy: 0.9823\n",
      "Epoch 18/20\n",
      "60000/60000 [==============================] - 7s 116us/sample - loss: 0.0031 - accuracy: 0.9810 - val_loss: 0.0029 - val_accuracy: 0.9813\n",
      "Epoch 19/20\n",
      "60000/60000 [==============================] - 7s 110us/sample - loss: 0.0030 - accuracy: 0.9814 - val_loss: 0.0029 - val_accuracy: 0.9833\n",
      "Epoch 20/20\n",
      "60000/60000 [==============================] - 7s 110us/sample - loss: 0.0029 - accuracy: 0.9818 - val_loss: 0.0029 - val_accuracy: 0.9820\n"
     ]
    },
    {
     "data": {
      "text/plain": [
       "<tensorflow.python.keras.callbacks.History at 0x235919cfdc8>"
      ]
     },
     "execution_count": 4,
     "metadata": {},
     "output_type": "execute_result"
    }
   ],
   "source": [
    "model.fit(x_train, y_train,\n",
    "          batch_size=32,\n",
    "          epochs=20,\n",
    "          validation_data=(x_test, y_test))"
   ]
  },
  {
   "cell_type": "markdown",
   "metadata": {},
   "source": [
    "Model Accuracy without any training and testing on Adversarial examples."
   ]
  },
  {
   "cell_type": "code",
   "execution_count": 5,
   "metadata": {},
   "outputs": [
    {
     "name": "stdout",
     "output_type": "stream",
     "text": [
      "Base accuracy on regular images: [0.0029356633863323023, 0.982]\n"
     ]
    }
   ],
   "source": [
    " print(\"Base accuracy on regular images:\", model.evaluate(x=x_test, y=y_test, verbose=0))"
   ]
  },
  {
   "cell_type": "markdown",
   "metadata": {},
   "source": [
    "The function to generate the perturbation will take in an image to apply perturbations to, and the label that correctly classifies the image. We can set up the gradients to calculate. We will be doing this using a tf.GradientTape() object. The GradientTape object keeps track of what happens to a tensor that it’s “watching,” and can automatically calculate the gradients for it. For more details on tf.GradientTape() object refer this https://medium.com/analytics-vidhya/tf-gradienttape-explained-for-keras-users-cc3f06276f22"
   ]
  },
  {
   "cell_type": "code",
   "execution_count": 6,
   "metadata": {},
   "outputs": [],
   "source": [
    "#Function to crate an Adversarial example\n",
    "def adversarial_pattern(image, label):\n",
    "    image = tf.cast(image, tf.float32)\n",
    "    \n",
    "    with tf.GradientTape() as tape:\n",
    "        tape.watch(image)\n",
    "        prediction = model(image)\n",
    "        loss = tf.keras.losses.MSE(label, prediction)\n",
    "    \n",
    "    gradient = tape.gradient(loss, image)\n",
    "    \n",
    "    signed_grad = tf.sign(gradient)\n",
    "    \n",
    "    return signed_grad"
   ]
  },
  {
   "cell_type": "code",
   "execution_count": 7,
   "metadata": {},
   "outputs": [
    {
     "data": {
      "image/png": "[encoded data removed]",
      "text/plain": [
       "<Figure size 432x288 with 1 Axes>"
      ]
     },
     "metadata": {
      "needs_background": "light"
     },
     "output_type": "display_data"
    }
   ],
   "source": [
    "#Adversarial Example\n",
    "image = x_train[1]\n",
    "image_label = y_train[1]\n",
    "perturbations = adversarial_pattern(image.reshape((1, img_rows, img_cols, channels)), image_label).numpy()\n",
    "#plt.imshow(image.reshape(img_rows,img_cols))\n",
    "#plt.show()\n",
    "\n",
    "#output before noise\n",
    "#print(labels[model.predict(image.reshape((1, img_rows, img_cols, channels))).argmax()])\n",
    "\n",
    "eps = 0.2\n",
    "adversarial = image + perturbations * eps\n",
    "\n",
    "if channels == 1:\n",
    "    plt.imshow(adversarial.reshape((img_rows, img_cols)))\n",
    "    \n",
    "else:\n",
    "    plt.imshow(adversarial.reshape((img_rows, img_cols, channels)))\n",
    "\n",
    "plt.title(\"Original {} -> Predicted {}\".format(labels[model.predict(image.reshape((1, img_rows, img_cols, channels))).argmax()], labels[model.predict(adversarial).argmax()]))\n",
    "plt.show()\n",
    "\n",
    "#output after noise\n",
    "#print(labels[model.predict(adversarial).argmax()])"
   ]
  },
  {
   "cell_type": "markdown",
   "metadata": {},
   "source": [
    "## Generalization"
   ]
  },
  {
   "cell_type": "markdown",
   "metadata": {},
   "source": [
    "To Generalize we need an Adversarial Example Generator and then train our pretrained model on them."
   ]
  },
  {
   "cell_type": "markdown",
   "metadata": {},
   "source": [
    "### Adversarial Generator "
   ]
  },
  {
   "cell_type": "code",
   "execution_count": 8,
   "metadata": {},
   "outputs": [],
   "source": [
    "def generate_adversarials(batch_size):\n",
    "    while True:\n",
    "        x = []\n",
    "        y = []\n",
    "        for batch in range(batch_size):\n",
    "            N = random.randint(0, 100)\n",
    "\n",
    "            label = y_train[N]\n",
    "            image = x_train[N]\n",
    "            \n",
    "            perturbations = adversarial_pattern(image.reshape((1, img_rows, img_cols, channels)), label).numpy()\n",
    "            \n",
    "            \n",
    "            epsilon = 0.2\n",
    "            adversarial = image + perturbations * epsilon\n",
    "            \n",
    "            x.append(adversarial)\n",
    "            y.append(y_train[N])\n",
    "        \n",
    "        \n",
    "        x = np.asarray(x).reshape((batch_size, img_rows, img_cols, channels))\n",
    "        y = np.asarray(y)\n",
    "        \n",
    "        yield x, y"
   ]
  },
  {
   "cell_type": "markdown",
   "metadata": {},
   "source": [
    "Accuracy of Model without any training on Adversarial Examples but testing on them."
   ]
  },
  {
   "cell_type": "code",
   "execution_count": 9,
   "metadata": {},
   "outputs": [
    {
     "name": "stdout",
     "output_type": "stream",
     "text": [
      "Base accuracy on adversarial images: [0.1859811827659607, 0.0078]\n"
     ]
    }
   ],
   "source": [
    "x_adversarial_test, y_adversarial_test = next(generate_adversarials(10000))\n",
    "print(\"Base accuracy on adversarial images:\", model.evaluate(x=x_adversarial_test, y=y_adversarial_test, verbose=0))"
   ]
  },
  {
   "cell_type": "markdown",
   "metadata": {},
   "source": [
    "Accuracy of Model after training the pre trained model on Adversarial Examples generated using the generator. And testing on the normal testing data (Not including Adversarial examples ). "
   ]
  },
  {
   "cell_type": "code",
   "execution_count": 10,
   "metadata": {},
   "outputs": [
    {
     "name": "stdout",
     "output_type": "stream",
     "text": [
      "Train on 20000 samples, validate on 10000 samples\n",
      "Epoch 1/10\n",
      "20000/20000 [==============================] - 3s 132us/sample - loss: 0.0245 - accuracy: 0.8585 - val_loss: 0.0084 - val_accuracy: 0.9469\n",
      "Epoch 2/10\n",
      "20000/20000 [==============================] - 3s 133us/sample - loss: 0.0018 - accuracy: 0.9902 - val_loss: 0.0092 - val_accuracy: 0.9411\n",
      "Epoch 3/10\n",
      "20000/20000 [==============================] - 3s 130us/sample - loss: 6.4039e-04 - accuracy: 0.9964 - val_loss: 0.0088 - val_accuracy: 0.9434\n",
      "Epoch 4/10\n",
      "20000/20000 [==============================] - 3s 132us/sample - loss: 5.8587e-05 - accuracy: 0.9998 - val_loss: 0.0089 - val_accuracy: 0.9443\n",
      "Epoch 5/10\n",
      "20000/20000 [==============================] - 3s 132us/sample - loss: 7.5499e-05 - accuracy: 0.9996 - val_loss: 0.0117 - val_accuracy: 0.9261\n",
      "Epoch 6/10\n",
      "20000/20000 [==============================] - 3s 130us/sample - loss: 1.0996e-04 - accuracy: 0.9995 - val_loss: 0.0102 - val_accuracy: 0.9382\n",
      "Epoch 7/10\n",
      "20000/20000 [==============================] - 3s 149us/sample - loss: 3.7675e-05 - accuracy: 0.9998 - val_loss: 0.0093 - val_accuracy: 0.9442\n",
      "Epoch 8/10\n",
      "20000/20000 [==============================] - 3s 146us/sample - loss: 7.4051e-05 - accuracy: 0.9995 - val_loss: 0.0133 - val_accuracy: 0.9226\n",
      "Epoch 9/10\n",
      "20000/20000 [==============================] - 3s 131us/sample - loss: 1.3673e-04 - accuracy: 0.9992 - val_loss: 0.0125 - val_accuracy: 0.9266\n",
      "Epoch 10/10\n",
      "20000/20000 [==============================] - 3s 148us/sample - loss: 1.3997e-04 - accuracy: 0.9991 - val_loss: 0.0132 - val_accuracy: 0.9248\n",
      "Defended accuracy on adversarial images: [8.456839683161419e-16, 1.0]\n",
      "Defended accuracy on regular images: [0.013161495559072848, 0.9248]\n"
     ]
    }
   ],
   "source": [
    "# Training the same model using adversail generator\n",
    "# We can either train the model directly on the generator or pre-generate a dataset of adversarial images to fit on. Training the model on a generator allows new images to be made on-the-fly to fool the model, which would mean that the model would learn to adapt to more complex images, and become more robust in the process. Despite these benefits, this method requires significantly more computing power, and for the sake of this tutorial, we are going to pre-generate a dataset of adversarial images.\n",
    "x_adversarial_train, y_adversarial_train = next(generate_adversarials(20000))\n",
    "model.fit(x_adversarial_train, y_adversarial_train,\n",
    "          batch_size=32,\n",
    "          epochs=10,\n",
    "          validation_data=(x_test, y_test))\n",
    "print(\"Defended accuracy on adversarial images:\", model.evaluate(x=x_adversarial_test, y=y_adversarial_test, verbose=0))\n",
    "print(\"Defended accuracy on regular images:\", model.evaluate(x=x_test, y=y_test, verbose=0))\n"
   ]
  },
  {
   "cell_type": "markdown",
   "metadata": {},
   "source": [
    "Although there is a noticeable drop in accuracy when evaluated on regular images, the defended model performs incredibly on the images that once fooled it. Although the model can defeat the images that used to fool it, we can still generate new images based on its weaknesses."
   ]
  }
 ],
 "metadata": {
  "kernelspec": {
   "display_name": "Python 3",
   "language": "python",
   "name": "python3"
  },
  "language_info": {
   "codemirror_mode": {
    "name": "ipython",
    "version": 3
   },
   "file_extension": ".py",
   "mimetype": "text/x-python",
   "name": "python",
   "nbconvert_exporter": "python",
   "pygments_lexer": "ipython3",
   "version": "3.7.5"
  },
  "toc": {
   "base_numbering": 1,
   "nav_menu": {},
   "number_sections": true,
   "sideBar": true,
   "skip_h1_title": false,
   "title_cell": "Table of Contents",
   "title_sidebar": "Contents",
   "toc_cell": false,
   "toc_position": {},
   "toc_section_display": true,
   "toc_window_display": false
  }
 },
 "nbformat": 4,
 "nbformat_minor": 4
}
